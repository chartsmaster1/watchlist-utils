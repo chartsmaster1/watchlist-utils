{
 "cells": [
  {
   "cell_type": "code",
   "execution_count": null,
   "metadata": {},
   "outputs": [],
   "source": [
    "import requests\n",
    "import pandas as pd\n",
    "\n",
    "# Step 1: Fetch the page\n",
    "url = 'https://8marketcap.com/etfs/'\n",
    "response = requests.get(url)\n",
    "response.raise_for_status()  # ensure we notice bad responses\n",
    "\n",
    "# Step 2: Parse any HTML tables on the page\n",
    "tables = pd.read_html(response.text)\n",
    "\n",
    "# Step 3: Inspect the first table (ETF list)\n",
    "etf_table = tables[0]\n",
    "\n",
    "# Display the full table\n",
    "import ace_tools as tools; tools.display_dataframe_to_user(name=\"ETF List from 8marketcap\", dataframe=etf_table)\n",
    "\n",
    "# Optionally, extract just the symbols and names\n",
    "etf_list = etf_table[['Name', 'Symbol']]\n",
    "tools.display_dataframe_to_user(name=\"ETF Names and Symbols\", dataframe=etf_list)\n",
    "\n",
    "# Print a simple list of symbols\n",
    "print(\"ETF Symbols:\", etf_list['Symbol'].tolist())\n"
   ]
  },
  {
   "cell_type": "code",
   "execution_count": null,
   "metadata": {},
   "outputs": [],
   "source": [
    "\n",
    "# pd.read_json('../data/spy.json', orient='records')\n",
    "sector_map = {\n",
    "    'Industrials': 'XLI',\n",
    "    'Health Care': 'XLV',\n",
    "    'Information Technology': 'XLK',\n",
    "    'Communication Services': 'XLC',\n",
    "    'Consumer Discretionary': 'XLY',\n",
    "    'Utilities': 'XLU',\n",
    "    'Financials': 'XLF',\n",
    "    'Materials': 'XLB',\n",
    "    'Real Estate': 'XLRE',\n",
    "    'Consumer Staples': 'XLP',\n",
    "    'Energy': 'XLE'\n",
    "}\n",
    "\n",
    "df['SectorKey'] = df['Sector'].map(sector_map)\n",
    "\n",
    "df.head()\n",
    "\n"
   ]
  },
  {
   "cell_type": "code",
   "execution_count": null,
   "metadata": {},
   "outputs": [],
   "source": [
    "sector_map.values()"
   ]
  }
 ],
 "metadata": {
  "kernelspec": {
   "display_name": ".venv",
   "language": "python",
   "name": "python3"
  },
  "language_info": {
   "codemirror_mode": {
    "name": "ipython",
    "version": 3
   },
   "file_extension": ".py",
   "mimetype": "text/x-python",
   "name": "python",
   "nbconvert_exporter": "python",
   "pygments_lexer": "ipython3",
   "version": "3.13.5"
  },
  "orig_nbformat": 4
 },
 "nbformat": 4,
 "nbformat_minor": 2
}
