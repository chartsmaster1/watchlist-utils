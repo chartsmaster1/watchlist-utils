{
 "cells": [
  {
   "cell_type": "code",
   "execution_count": null,
   "metadata": {},
   "outputs": [
    {
     "name": "stdout",
     "output_type": "stream",
     "text": [
      "An error occurred while processing the PDF: [Errno 2] No such file or directory: './data/US2000_QUARTERLY-DailyData-USD_StocksWeight_20250331.pdf'\n"
     ]
    }
   ],
   "source": [
    "import pdfplumber\n",
    "import pandas as pd\n",
    "\n",
    "all_company_names = []\n",
    "pdf_path = '../data/US2000_QUARTERLY-DailyData-USD_StocksWeight_20250331.pdf'\n",
    "\n",
    "try:\n",
    "    with pdfplumber.open(pdf_path) as pdf:\n",
    "        print(f\"Opened '{pdf_path}', found {len(pdf.pages)} pages.\")\n",
    "        \n",
    "        for i, page in enumerate(pdf.pages):\n",
    "            # extract_tables() finds all tables on a page\n",
    "            tables = page.extract_tables()\n",
    "            print(f\"Processing page {i + 1}, found {len(tables)} tables.\")\n",
    "\n",
    "            for table in tables:\n",
    "                if not table:\n",
    "                    continue\n",
    "                \n",
    "                # Create a DataFrame from the extracted table data\n",
    "                df = pd.DataFrame(table[1:], columns=table[0])\n",
    "                all_company_names.append(df)\n",
    "\n",
    "except Exception as e:\n",
    "    print(f\"An error occurred while processing the PDF: {e}\")\n",
    "\n"
   ]
  }
 ],
 "metadata": {
  "kernelspec": {
   "display_name": ".venv",
   "language": "python",
   "name": "python3"
  },
  "language_info": {
   "codemirror_mode": {
    "name": "ipython",
    "version": 3
   },
   "file_extension": ".py",
   "mimetype": "text/x-python",
   "name": "python",
   "nbconvert_exporter": "python",
   "pygments_lexer": "ipython3",
   "version": "3.13.5"
  },
  "orig_nbformat": 4
 },
 "nbformat": 4,
 "nbformat_minor": 2
}
