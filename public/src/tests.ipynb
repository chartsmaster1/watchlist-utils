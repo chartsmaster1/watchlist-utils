{
 "cells": [
  {
   "cell_type": "code",
   "execution_count": null,
   "metadata": {},
   "outputs": [],
   "source": [
    "import requests\n",
    "import pandas as pd\n",
    "from io import StringIO\n",
    "from datetime import datetime\n",
    "\n",
    "API_KEY = \"OFWE463Q7WHJXGAM\"\n",
    "url = f\"https://www.alphavantage.co/query?function=EARNINGS_CALENDAR&horizon=1day&apikey={API_KEY}\"\n",
    "\n",
    "response = requests.get(url)\n",
    "\n",
    "# Read CSV data into DataFrame\n",
    "df = pd.read_csv(StringIO(response.text))\n",
    "\n",
    "# Convert reportDate to datetime\n",
    "df['reportDate'] = pd.to_datetime(df['reportDate'], errors='coerce')\n",
    "\n",
    "# Filter for today's earnings\n",
    "today = pd.Timestamp(datetime.today().date())\n",
    "todays_earnings = df[df['reportDate'] == today]\n",
    "\n",
    "print(\"Companies reporting earnings today:\")\n",
    "print(todays_earnings[['symbol', 'name', 'reportDate', 'fiscalDateEnding', 'estimate', 'currency']])\n"
   ]
  },
  {
   "cell_type": "code",
   "execution_count": null,
   "metadata": {},
   "outputs": [],
   "source": [
    "df[(df['estimate'].notna()) & (df['reportDate'] == today)].reset_index(drop=True).head(35)"
   ]
  }
 ],
 "metadata": {
  "kernelspec": {
   "display_name": ".venv",
   "language": "python",
   "name": "python3"
  },
  "language_info": {
   "codemirror_mode": {
    "name": "ipython",
    "version": 3
   },
   "file_extension": ".py",
   "mimetype": "text/x-python",
   "name": "python",
   "nbconvert_exporter": "python",
   "pygments_lexer": "ipython3",
   "version": "3.13.7"
  },
  "orig_nbformat": 4
 },
 "nbformat": 4,
 "nbformat_minor": 2
}
